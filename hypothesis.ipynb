{
 "cells": [
  {
   "attachments": {},
   "cell_type": "markdown",
   "id": "661e1407",
   "metadata": {},
   "source": [
    "# ENGR 371 - Housing affordability in Canada\n",
    "\n",
    "## Purpose\n",
    "The purpose of the following document is to demonstrate the calculations required to support the hypothesis outlined below.\n",
    "\n",
    "## Hypothesis\n",
    "The average remaining mortgage owed on the dwelling is <s>2 times</s> greater than the average household income.\n",
    "\n",
    "## Context\n",
    "The population is all private households in Canada who have a mortgage on their dwelling.\n",
    "It is important to analyze the relationship between household income and the amount of mortgage debt that a household is carrying. \n",
    "This information can be useful in a variety of contexts, such as understanding the ratio of debt versus income of Canadian households and their financial health.\n",
    "\n",
    "\n",
    "## Methodology\n",
    "This statistical research is based on the data collected by Statistics Canada in 2019 and published as part of a statistical research available [here](https://www23.statcan.gc.ca/imdb/p2SV.pl?Function=getSurvey&Id=793713).\n",
    "Data sources and methodology as well as references are available [here](https://www23.statcan.gc.ca/imdb/p2SV.pl?Function=getSurvey&Id=793713)\n",
    "The following project is based on a limited set of data collected from the aforementioned survey and is analyzed using Student's t test and various other techniques.\n",
    "\n",
    "## Results\n",
    "Describe and comment the most important results.\n",
    "\n",
    "## Suggested next steps\n",
    "Full code and documentation are available in our [public code repository](https://github.com/vlkyrylenko/stat-project)"
   ]
  },
  {
   "cell_type": "markdown",
   "id": "1045dcdb",
   "metadata": {},
   "source": [
    "# Setup\n",
    "\n",
    "## Library import\n",
    "We import all the required Python libraries"
   ]
  },
  {
   "cell_type": "code",
   "execution_count": 46,
   "id": "34a08876",
   "metadata": {},
   "outputs": [
    {
     "data": {
      "text/html": [
       "        <script type=\"text/javascript\">\n",
       "        window.PlotlyConfig = {MathJaxConfig: 'local'};\n",
       "        if (window.MathJax && window.MathJax.Hub && window.MathJax.Hub.Config) {window.MathJax.Hub.Config({SVG: {font: \"STIX-Web\"}});}\n",
       "        if (typeof require !== 'undefined') {\n",
       "        require.undef(\"plotly\");\n",
       "        requirejs.config({\n",
       "            paths: {\n",
       "                'plotly': ['https://cdn.plot.ly/plotly-2.20.0.min']\n",
       "            }\n",
       "        });\n",
       "        require(['plotly'], function(Plotly) {\n",
       "            window._Plotly = Plotly;\n",
       "        });\n",
       "        }\n",
       "        </script>\n",
       "        "
      ]
     },
     "metadata": {},
     "output_type": "display_data"
    }
   ],
   "source": [
    "# Data manipulation\n",
    "import pandas as pd\n",
    "import numpy as np\n",
    "from pathlib import Path\n",
    "import math as m\n",
    "from scipy import stats\n",
    "\n",
    "# Options for pandas\n",
    "pd.options.display.max_columns = 5\n",
    "pd.options.display.max_rows = 30\n",
    "\n",
    "# Visualizations\n",
    "import plotly\n",
    "import plotly.graph_objs as go\n",
    "import plotly.offline as ply\n",
    "plotly.offline.init_notebook_mode(connected=True)\n",
    "import matplotlib as plt"
   ]
  },
  {
   "cell_type": "markdown",
   "id": "1ceb7d36",
   "metadata": {},
   "source": [
    "## Local library import\n",
    "We import all the required local libraries libraries"
   ]
  },
  {
   "cell_type": "code",
   "execution_count": 47,
   "id": "eb4784e1",
   "metadata": {},
   "outputs": [],
   "source": [
    "# System libraries\n",
    "import os, sys, glob\n",
    "import pathlib\n",
    "# sys.path.append('path/to/local/lib')\n",
    "abs_path = os.path.abspath('')\n",
    "os.chdir(abs_path)\n",
    "\n",
    "# Import local libraries\n",
    "from stat_analysis import STAT"
   ]
  },
  {
   "cell_type": "markdown",
   "id": "435d253d",
   "metadata": {},
   "source": [
    "# Parameter definition\n",
    "We set all relevant parameters for our notebook. By convention, parameters are uppercase, while all the \n",
    "other variables follow Python's guidelines."
   ]
  },
  {
   "attachments": {},
   "cell_type": "markdown",
   "id": "01ee29bf",
   "metadata": {},
   "source": [
    "\n",
    "# Data import\n",
    "Retrieve all the required data for the analysis.\n",
    "The data was extracted from the [Statics Canada web site](https://www150.statcan.gc.ca/n1/pub/46-25-0001/2021001/2021.zip) and stored in csv format.\n",
    "The following survey has over 40,000 respondents. However, since the goal of this project is to test the aforementioned hypothesis, only a subset of the survey data has been used.\n",
    "The mean and standard deviation used to calculate the t score for each attribute were calculated using the original data to minimize the error while ignoring missing values."
   ]
  },
  {
   "attachments": {},
   "cell_type": "markdown",
   "id": "959c3e9e",
   "metadata": {},
   "source": [
    "# Data processing\n",
    "The following process is based on a custom class functions in combination with SciPy, NumPy, and Pandas.\n",
    "For more information, please refer to the documentation and code repository."
   ]
  },
  {
   "attachments": {},
   "cell_type": "markdown",
   "id": "deec53dd",
   "metadata": {},
   "source": [
    "1. Calculate the mean of the remaining mortgage owned using the following code:"
   ]
  },
  {
   "cell_type": "code",
   "execution_count": 48,
   "id": "44ddc80c",
   "metadata": {},
   "outputs": [
    {
     "name": "stdout",
     "output_type": "stream",
     "text": [
      "Mean of the remaining mortgage owned is: 195666.83$ CAD\n",
      "Standard deviation of the remaining mortgage owned is: 156177.76$ CAD\n"
     ]
    }
   ],
   "source": [
    "# Export csv file as a data frame and calculate statistical parameters\n",
    "# POWN_80 - Shelter costs for owners - $ amount currently owed on mortgage\n",
    "STAT.append_csv('./data/data.csv', dropNaN=True)\n",
    "STAT.get_parameters('./data/new_data.csv','POWN_80')\n",
    "mortgage_mean = STAT.get_parameters.mean\n",
    "mortgage_std = STAT.get_parameters.std\n",
    "print('Mean of the remaining mortgage owned is: {:.2f}$ CAD'.format(mortgage_mean))\n",
    "print('Standard deviation of the remaining mortgage owned is: {:.2f}$ CAD'.format(mortgage_std))"
   ]
  },
  {
   "attachments": {},
   "cell_type": "markdown",
   "id": "5ac154de",
   "metadata": {},
   "source": [
    "2. Calculate the mean of the household income:"
   ]
  },
  {
   "cell_type": "code",
   "execution_count": 49,
   "id": "6111013d",
   "metadata": {},
   "outputs": [
    {
     "name": "stdout",
     "output_type": "stream",
     "text": [
      "Mean of the household income is: 134899.05$ CAD\n",
      "Standard deviation of the household income is: 92340.09$ CAD\n"
     ]
    }
   ],
   "source": [
    "# PHHTTINC - Total income of household\n",
    "STAT.get_parameters('./data/new_data.csv','PHHTTINC')\n",
    "income_mean = STAT.get_parameters.mean\n",
    "income_std = STAT.get_parameters.std\n",
    "print('Mean of the household income is: {:.2f}$ CAD'.format(income_mean))\n",
    "print('Standard deviation of the household income is: {:.2f}$ CAD'.format(income_std))"
   ]
  },
  {
   "attachments": {},
   "cell_type": "markdown",
   "id": "fb5fe556",
   "metadata": {},
   "source": [
    "3. Make a claim based on the hypothesis described above.<br><br>\n",
    "Claim (H1):\n",
    "        Population mean is greater that 176528.17$ CAD\n",
    "\\begin{align}\n",
    "\\mu \\leq = 176528.17 CAD\n",
    "\\end{align}\n",
    "Opposite (H0):\n",
    "\n",
    "\\begin{align}\n",
    "        \\mu > 176528.17 CAD\n",
    "        \\end{align}"
   ]
  },
  {
   "attachments": {},
   "cell_type": "markdown",
   "id": "97241651",
   "metadata": {},
   "source": [
    "4. Select significance level $\\alpha$ equal to 0.01 and sample size $n$ equal to 9118."
   ]
  },
  {
   "attachments": {},
   "cell_type": "markdown",
   "id": "fd939c6a",
   "metadata": {},
   "source": [
    "5. Calculate T score using the following formula:<br>\n",
    "*Calculations are based on a custom function that resides within our python class*\n",
    "\\begin{align}\n",
    "T = \\frac{\\bar{x} - \\mu}{\\frac {s}{\\sqrt{n}}}\n",
    "\\end{align}"
   ]
  },
  {
   "attachments": {},
   "cell_type": "markdown",
   "id": "587962f7",
   "metadata": {},
   "source": [
    "Where<dl><li>$\\bar{x}$ is the sample mean of the mortgage balance</li><li>$\\mu$ is the population mean represented by the previously arbitrary value</li><li>s is the standard deviation of the mortgage balance </li><li>n is the sample size</li></dl>"
   ]
  },
  {
   "cell_type": "code",
   "execution_count": 50,
   "id": "89646883",
   "metadata": {},
   "outputs": [
    {
     "name": "stdout",
     "output_type": "stream",
     "text": [
      "T-score is 37.15\n"
     ]
    }
   ],
   "source": [
    "n = len(STAT.append_csv.df.index)\n",
    "STAT.mean_t(populationMean=income_mean,sampleMean=mortgage_mean,\n",
    "        sampleSD= mortgage_std,sampleSize=n,significanceLevel=0.01)\n",
    "# populationMean - nu (from claim), sampleMean - x bar, s - population standard deviation, sampleSize - n\n",
    "        # Calculate t-score for mean\n",
    "        # For unknown population mean and standard deviation\n",
    "        # n > 30 or the population is normally distributed\n",
    "print(\"T-score is {:.2f}\".format(STAT.mean_t.value))"
   ]
  },
  {
   "cell_type": "code",
   "execution_count": 51,
   "id": "b6b72007",
   "metadata": {},
   "outputs": [
    {
     "data": {
      "text/plain": [
       "TtestResult(statistic=37.153857767147336, pvalue=1.7558861177799532e-281, df=9117)"
      ]
     },
     "execution_count": 51,
     "metadata": {},
     "output_type": "execute_result"
    }
   ],
   "source": [
    "stats.ttest_1samp(popmean=income_mean,a=STAT.append_csv.df['POWN_80'])"
   ]
  },
  {
   "cell_type": "code",
   "execution_count": 52,
   "id": "391adbae",
   "metadata": {},
   "outputs": [
    {
     "data": {
      "text/plain": [
       "8.779430588896769e-282"
      ]
     },
     "execution_count": 52,
     "metadata": {},
     "output_type": "execute_result"
    }
   ],
   "source": [
    "# P-value in the right-tailed test:\n",
    "stats.t.sf(abs(STAT.mean_t.value),df=n-1)\n",
    "# where the first argument is the t-score, and the second argument is the degrees of freedom."
   ]
  },
  {
   "attachments": {},
   "cell_type": "markdown",
   "id": "c119471c",
   "metadata": {},
   "source": [
    "### Right tail test\n",
    "#### 1st method\n",
    "According to the t-tables, the area corresponding to $\\alpha = 0.01$ equals to 2.429\n",
    "The T-score obtained using both methods ($37.15$) is significantly greater than 2.429\n",
    "Hence, there **is enough** evidence to reject the null hypothesis and support the the claim that the mean mortgage debt is greater than the mean household income.\n",
    "\n",
    "#### 2nd method\n",
    "P-value\n",
    "\n",
    "The P-value obtained using the 2nd method ($8.779430588896769e^{-282}$) is significantly smaller than our significance level.\n",
    "Hence, there **is enough** evidence to reject the null hypothesis based on the P-value."
   ]
  },
  {
   "attachments": {},
   "cell_type": "markdown",
   "id": "2592c09a",
   "metadata": {},
   "source": [
    "# References\n",
    "\n",
    "1. Canadian Housing Survey: Public use of microdata file, 2021 DOI: https://doi.org/10.25318/46250001-eng\n",
    "2. Volodymyr Kyrylenko, Project repository, Github, 2023, https://github.com/vlkyrylenko/stat-project\n",
    "3. Brandon Leonard, Statistics Lecture 8.5: Hypothesis Testing for Population Mean. Population Std Dev is Unknown., 2011 https://youtu.be/onTQhD7osY4"
   ]
  }
 ],
 "metadata": {
  "kernelspec": {
   "display_name": "Python 3 (ipykernel)",
   "language": "python",
   "name": "python3"
  },
  "language_info": {
   "codemirror_mode": {
    "name": "ipython",
    "version": 3
   },
   "file_extension": ".py",
   "mimetype": "text/x-python",
   "name": "python",
   "nbconvert_exporter": "python",
   "pygments_lexer": "ipython3",
   "version": "3.11.2"
  }
 },
 "nbformat": 4,
 "nbformat_minor": 5
}
